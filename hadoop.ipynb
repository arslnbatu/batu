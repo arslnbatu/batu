{
 "cells": [
  {
   "cell_type": "code",
   "execution_count": 1,
   "metadata": {
    "kernel": "Bash"
   },
   "outputs": [
    {
     "name": "stdout",
     "output_type": "stream",
     "text": [
      "Stopping OpenBSD Secure Shell server: sshd.\n",
      "Starting OpenBSD Secure Shell server: sshd.\n"
     ]
    }
   ],
   "source": [
    "sudo service ssh stop\n",
    "sudo service ssh start"
   ]
  },
  {
   "cell_type": "code",
   "execution_count": 2,
   "metadata": {
    "kernel": "Bash"
   },
   "outputs": [
    {
     "name": "stdout",
     "output_type": "stream",
     "text": [
      "sshd is running.\n"
     ]
    }
   ],
   "source": [
    "service ssh status"
   ]
  },
  {
   "cell_type": "code",
   "execution_count": 3,
   "metadata": {
    "kernel": "Bash"
   },
   "outputs": [
    {
     "name": "stdout",
     "output_type": "stream",
     "text": [
      "/opt/hadoop-2.9.2\n",
      "/etc/hadoop\n",
      "/opt/hadoop-2.9.2\n",
      "/opt/pig/bin:/opt/hive/bin:/opt/sqoop/bin:/opt/hadoop-2.9.2/bin:/opt/hadoop-2.9.2/sbin:/usr/local/sbin:/usr/local/bin:/usr/sbin:/usr/bin:/sbin:/bin:/usr/lib/postgresql/11/bin:/opt/hive/hcatalog/bin\n"
     ]
    }
   ],
   "source": [
    "echo $HADOOP_HOME\n",
    "echo $HADOOP_CONF_DIR\n",
    "echo $HADOOP_PREFIX\n",
    "echo $PATH"
   ]
  },
  {
   "cell_type": "code",
   "execution_count": 4,
   "metadata": {
    "kernel": "Bash"
   },
   "outputs": [
    {
     "name": "stdout",
     "output_type": "stream",
     "text": [
      "capacity-scheduler.xml      httpfs-env.sh            mapred-env.sh\n",
      "configuration.xsl           httpfs-log4j.properties  mapred-queues.xml.template\n",
      "container-executor.cfg      httpfs-signature.secret  mapred-site.xml\n",
      "core-site.xml               httpfs-site.xml          mapred-site.xml.template\n",
      "hadoop-env.cmd              kms-acls.xml             slaves\n",
      "hadoop-env.sh               kms-env.sh               ssl-client.xml.example\n",
      "hadoop-metrics.properties   kms-log4j.properties     ssl-server.xml.example\n",
      "hadoop-metrics2.properties  kms-site.xml             yarn-env.cmd\n",
      "hadoop-policy.xml           log4j.properties         yarn-env.sh\n",
      "hdfs-site.xml               mapred-env.cmd           yarn-site.xml\n"
     ]
    }
   ],
   "source": [
    "ls $HADOOP_CONF_DIR"
   ]
  },
  {
   "cell_type": "code",
   "execution_count": 5,
   "metadata": {
    "kernel": "Bash"
   },
   "outputs": [
    {
     "name": "stdout",
     "output_type": "stream",
     "text": [
      "<?xml version=\"1.0\" encoding=\"UTF-8\"?>\n",
      "<?xml-stylesheet type=\"text/xsl\" href=\"configuration.xsl\"?>\n",
      "<!--\n",
      "  Licensed under the Apache License, Version 2.0 (the \"License\");\n",
      "  you may not use this file except in compliance with the License.\n",
      "  You may obtain a copy of the License at\n",
      "\n",
      "    http://www.apache.org/licenses/LICENSE-2.0\n",
      "\n",
      "  Unless required by applicable law or agreed to in writing, software\n",
      "  distributed under the License is distributed on an \"AS IS\" BASIS,\n",
      "  WITHOUT WARRANTIES OR CONDITIONS OF ANY KIND, either express or implied.\n",
      "  See the License for the specific language governing permissions and\n",
      "  limitations under the License. See accompanying LICENSE file.\n",
      "-->\n",
      "\n",
      "<!-- Put site-specific property overrides in this file. -->\n",
      "\n",
      "<configuration>\n",
      "    <property>\n",
      "        <name>fs.defaultFS</name>\n",
      "        <value>hdfs://localhost</value>\n",
      "    </property>\n",
      "    <property>\n",
      "      <name>hadoop.tmp.dir</name>\n",
      "      <value>/hadoop-data</value>\n",
      "    </property>\n",
      "        <property>\n",
      "        <name>hadoop.security.authentication</name>\n",
      "        <value>simple</value>\n",
      "    </property>\n",
      "    <property>\n",
      "        <name>hadoop.security.authorization</name>\n",
      "        <value>false</value>\n",
      "    </property>\n",
      "</configuration>\n"
     ]
    }
   ],
   "source": [
    "cat $HADOOP_CONF_DIR/core-site.xml"
   ]
  },
  {
   "cell_type": "code",
   "execution_count": 6,
   "metadata": {
    "kernel": "Bash"
   },
   "outputs": [
    {
     "name": "stdout",
     "output_type": "stream",
     "text": [
      "<?xml version=\"1.0\" encoding=\"UTF-8\"?>\n",
      "<?xml-stylesheet type=\"text/xsl\" href=\"configuration.xsl\"?>\n",
      "<!--\n",
      "  Licensed under the Apache License, Version 2.0 (the \"License\");\n",
      "  you may not use this file except in compliance with the License.\n",
      "  You may obtain a copy of the License at\n",
      "\n",
      "    http://www.apache.org/licenses/LICENSE-2.0\n",
      "\n",
      "  Unless required by applicable law or agreed to in writing, software\n",
      "  distributed under the License is distributed on an \"AS IS\" BASIS,\n",
      "  WITHOUT WARRANTIES OR CONDITIONS OF ANY KIND, either express or implied.\n",
      "  See the License for the specific language governing permissions and\n",
      "  limitations under the License. See accompanying LICENSE file.\n",
      "-->\n",
      "\n",
      "<!-- Put site-specific property overrides in this file. -->\n",
      "\n",
      "<configuration>\n",
      "    <property>\n",
      "        <name>dfs.replication</name>\n",
      "        <value>1</value>\n",
      "    </property>\n",
      "     <property>\n",
      "         <name>dfs.data.dir</name>\n",
      "         <value>/hadoop-data/dfs/data</value>\n",
      "         <final>true</final>\n",
      "     </property>\n",
      "     <property>\n",
      "         <name>dfs.name.dir</name>\n",
      "         <value>/hadoop-data/dfs/name</value>\n",
      "         <final>true</final>\n",
      "     </property>\n",
      "</configuration>\n",
      "<?xml version=\"1.0\"?>\n",
      "<?xml-stylesheet type=\"text/xsl\" href=\"configuration.xsl\"?>\n",
      "<!--\n",
      "  Licensed under the Apache License, Version 2.0 (the \"License\");\n",
      "  you may not use this file except in compliance with the License.\n",
      "  You may obtain a copy of the License at\n",
      "\n",
      "    http://www.apache.org/licenses/LICENSE-2.0\n",
      "\n",
      "  Unless required by applicable law or agreed to in writing, software\n",
      "  distributed under the License is distributed on an \"AS IS\" BASIS,\n",
      "  WITHOUT WARRANTIES OR CONDITIONS OF ANY KIND, either express or implied.\n",
      "  See the License for the specific language governing permissions and\n",
      "  limitations under the License. See accompanying LICENSE file.\n",
      "-->\n",
      "\n",
      "<!-- Put site-specific property overrides in this file. -->\n",
      "\n",
      "<configuration>\n",
      "    <property>\n",
      "        <name>mapreduce.framework.name</name>\n",
      "        <value>yarn</value>\n",
      "    </property>\n",
      "    <property>\n",
      "      <name>mapred.job.tracker</name>\n",
      "      <value>localhost</value>\n",
      "      <description>The host and port that the MapReduce job tracker runs at.  I$  \n",
      "      </description>\n",
      "    </property>\n",
      "</configuration>\n",
      "<?xml version=\"1.0\"?>\n",
      "<!--\n",
      "  Licensed under the Apache License, Version 2.0 (the \"License\");\n",
      "  you may not use this file except in compliance with the License.\n",
      "  You may obtain a copy of the License at\n",
      "\n",
      "    http://www.apache.org/licenses/LICENSE-2.0\n",
      "\n",
      "  Unless required by applicable law or agreed to in writing, software\n",
      "  distributed under the License is distributed on an \"AS IS\" BASIS,\n",
      "  WITHOUT WARRANTIES OR CONDITIONS OF ANY KIND, either express or implied.\n",
      "  See the License for the specific language governing permissions and\n",
      "  limitations under the License. See accompanying LICENSE file.\n",
      "-->\n",
      "<configuration>\n",
      "  <property>\n",
      "    <name>yarn.nodemanager.aux-services</name>\n",
      "    <value>mapreduce_shuffle</value>\n",
      "  </property>\n",
      "  <property>\n",
      "    <name>yarn.nodemanager.aux-services.mapreduce_shuffle.class</name>\n",
      "    <value>org.apache.hadoop.mapred.ShuffleHandler</value>\n",
      "  </property>\n",
      "</configuration>\n"
     ]
    }
   ],
   "source": [
    "cat $HADOOP_CONF_DIR/hdfs-site.xml\n",
    "cat $HADOOP_CONF_DIR/mapred-site.xml\n",
    "cat $HADOOP_CONF_DIR/yarn-site.xml"
   ]
  },
  {
   "cell_type": "code",
   "execution_count": 7,
   "metadata": {
    "kernel": "Bash"
   },
   "outputs": [
    {
     "name": "stdout",
     "output_type": "stream",
     "text": [
      "localhost\n"
     ]
    }
   ],
   "source": [
    "cat $HADOOP_CONF_DIR/slaves"
   ]
  },
  {
   "cell_type": "code",
   "execution_count": 8,
   "metadata": {
    "kernel": "Bash"
   },
   "outputs": [
    {
     "name": "stdout",
     "output_type": "stream",
     "text": [
      "Starting namenodes on [localhost]\n",
      "localhost: namenode running as process 525. Stop it first.\n",
      "localhost: datanode running as process 609. Stop it first.\n",
      "Starting secondary namenodes [0.0.0.0]\n",
      "0.0.0.0: secondarynamenode running as process 788. Stop it first.\n"
     ]
    }
   ],
   "source": [
    "start-dfs.sh 2>&1 | grep -Pv \"^WARNING\""
   ]
  },
  {
   "cell_type": "code",
   "execution_count": 9,
   "metadata": {
    "kernel": "Bash"
   },
   "outputs": [
    {
     "name": "stdout",
     "output_type": "stream",
     "text": [
      "4640 Jps\n",
      "609 DataNode\n",
      "788 SecondaryNameNode\n",
      "525 NameNode\n"
     ]
    }
   ],
   "source": [
    "jps"
   ]
  },
  {
   "cell_type": "code",
   "execution_count": 10,
   "metadata": {
    "kernel": "Bash"
   },
   "outputs": [
    {
     "name": "stdout",
     "output_type": "stream",
     "text": [
      "Configured Capacity: 1888507981824 (1.72 TB)\n",
      "Present Capacity: 479233426039 (446.32 GB)\n",
      "DFS Remaining: 476060782592 (443.37 GB)\n",
      "DFS Used: 3172643447 (2.95 GB)\n",
      "DFS Used%: 0.66%\n",
      "Under replicated blocks: 0\n",
      "Blocks with corrupt replicas: 0\n",
      "Missing blocks: 0\n",
      "Missing blocks (with replication factor 1): 0\n",
      "Pending deletion blocks: 0\n",
      "\n",
      "-------------------------------------------------\n",
      "Live datanodes (1):\n",
      "\n",
      "Name: 127.0.0.1:50010 (localhost)\n",
      "Hostname: jupyter-serhatcevikel-2dbdm-5f2019-2d1kl0r34i\n",
      "Decommission Status : Normal\n",
      "Configured Capacity: 1888507981824 (1.72 TB)\n",
      "DFS Used: 3172643447 (2.95 GB)\n",
      "Non DFS Used: 1313272180105 (1.19 TB)\n",
      "DFS Remaining: 476060782592 (443.37 GB)\n",
      "DFS Used%: 0.17%\n",
      "DFS Remaining%: 25.21%\n",
      "Configured Cache Capacity: 0 (0 B)\n",
      "Cache Used: 0 (0 B)\n",
      "Cache Remaining: 0 (0 B)\n",
      "Cache Used%: 100.00%\n",
      "Cache Remaining%: 0.00%\n",
      "Xceivers: 1\n",
      "Last contact: Mon Jan 06 19:45:26 UTC 2020\n",
      "Last Block Report: Mon Jan 06 19:44:23 UTC 2020\n",
      "\n",
      "\n"
     ]
    }
   ],
   "source": [
    "hdfs dfsadmin -report 2>&1 | grep -Pv \"^WARNING\""
   ]
  },
  {
   "cell_type": "code",
   "execution_count": 11,
   "metadata": {
    "kernel": "Bash"
   },
   "outputs": [],
   "source": [
    "mkdir -p ~/new"
   ]
  },
  {
   "cell_type": "code",
   "execution_count": 12,
   "metadata": {
    "kernel": "Bash"
   },
   "outputs": [],
   "source": [
    "cd ~/new && \\\n",
    "head -100 ~/brazilian-cities.tsv| tail -n+2 | split -l 1000"
   ]
  },
  {
   "cell_type": "code",
   "execution_count": 13,
   "metadata": {
    "kernel": "Bash"
   },
   "outputs": [
    {
     "name": "stdout",
     "output_type": "stream",
     "text": [
      "xaa\n"
     ]
    }
   ],
   "source": [
    "ls ~/new"
   ]
  },
  {
   "cell_type": "code",
   "execution_count": 14,
   "metadata": {
    "kernel": "Bash"
   },
   "outputs": [
    {
     "ename": "",
     "evalue": "1",
     "output_type": "error",
     "traceback": []
    }
   ],
   "source": [
    "hdfs dfs -put -f ~/new /data 2>&1 | grep -Pv \"^WARNING\""
   ]
  },
  {
   "cell_type": "code",
   "execution_count": 15,
   "metadata": {
    "kernel": "Bash"
   },
   "outputs": [
    {
     "name": "stdout",
     "output_type": "stream",
     "text": [
      "Found 7 items\n",
      "drwxr-xr-x   - jovyan supergroup          0 2019-12-12 03:04 /data/comtrade_s1\n",
      "drwxr-xr-x   - jovyan supergroup          0 2019-12-12 03:10 /data/he_sisli\n",
      "drwxr-xr-x   - jovyan supergroup          0 2019-12-12 03:11 /data/imdb\n",
      "drwxr-xr-x   - jovyan supergroup          0 2019-12-12 03:11 /data/ncdc\n",
      "drwxr-xr-x   - jovyan supergroup          0 2020-01-06 19:45 /data/new\n",
      "drwxr-xr-x   - jovyan supergroup          0 2019-12-12 03:11 /data/ngrams\n",
      "drwxr-xr-x   - jovyan supergroup          0 2020-01-06 19:39 /data/split\n"
     ]
    }
   ],
   "source": [
    "hdfs dfs -ls /data 2>&1 | grep -Pv \"^WARNING\""
   ]
  },
  {
   "cell_type": "code",
   "execution_count": 16,
   "metadata": {
    "kernel": "Bash"
   },
   "outputs": [
    {
     "name": "stdout",
     "output_type": "stream",
     "text": [
      "AL\tPariconha\t10264\t258.53\n",
      "AL\tParipueira\t11347\t92.97\n",
      "AL\tPasso de Camaragibe\t14763\t244.47\n",
      "AL\tPaulo Jacinto\t7426\t118.46\n",
      "AL\tPenedo\t60378\t689.16\n",
      "AL\tPiaçabuçu\t17203\t240.01\n",
      "AL\tPilar\t33305\t249.71\n",
      "AL\tPindoba\t2866\t117.6\n",
      "AL\tPiranhas\t23045\t408.11\n",
      "AL\tPoço das Trincheiras\t13872\t291.94\n"
     ]
    }
   ],
   "source": [
    "tail ~/new/xaa"
   ]
  },
  {
   "cell_type": "code",
   "execution_count": 18,
   "metadata": {
    "kernel": "Bash"
   },
   "outputs": [
    {
     "name": "stdout",
     "output_type": "stream",
     "text": [
      "Anadia 1\n",
      "Arapiraca 1\n",
      "Assis 1\n",
      "Atalaia 1\n",
      "Barra 2\n",
      "Batalha 1\n",
      "Belo 1\n",
      "Belém 1\n",
      "Boca 1\n",
      "Branquinha 1\n"
     ]
    }
   ],
   "source": [
    "for file in ~/new/*; do cut -f 2 $file | \\\n",
    "q \"select c1, count(c1) from - group by c1\" | \\\n",
    "head -10; done"
   ]
  },
  {
   "cell_type": "code",
   "execution_count": null,
   "metadata": {
    "kernel": "Bash"
   },
   "outputs": [],
   "source": []
  }
 ],
 "metadata": {
  "kernelspec": {
   "display_name": "SoS",
   "language": "sos",
   "name": "sos"
  },
  "language_info": {
   "codemirror_mode": "sos",
   "file_extension": ".sos",
   "mimetype": "text/x-sos",
   "name": "sos",
   "nbconvert_exporter": "sos_notebook.converter.SoS_Exporter",
   "pygments_lexer": "sos"
  },
  "sos": {
   "kernels": [
    [
     "Bash",
     "bash",
     "bash",
     "",
     ""
    ]
   ],
   "panel": {
    "displayed": true,
    "height": 0
   },
   "version": "0.21.0"
  },
  "toc": {
   "base_numbering": 1,
   "nav_menu": {},
   "number_sections": false,
   "sideBar": false,
   "skip_h1_title": false,
   "title_cell": "Table of Contents",
   "title_sidebar": "Contents",
   "toc_cell": false,
   "toc_position": {},
   "toc_section_display": false,
   "toc_window_display": false
  }
 },
 "nbformat": 4,
 "nbformat_minor": 2
}
