{
 "cells": [
  {
   "cell_type": "code",
   "execution_count": 1,
   "metadata": {
    "kernel": "Bash"
   },
   "outputs": [],
   "source": [
    "mkdir ~/abc"
   ]
  },
  {
   "cell_type": "code",
   "execution_count": 11,
   "metadata": {
    "kernel": "Bash"
   },
   "outputs": [
    {
     "name": "stdout",
     "output_type": "stream",
     "text": [
      "**** Retrieving (GET): https://www.akakce.com/oyuncak.html ****\n",
      "**** Processing: https://www.akakce.com/oyuncak.html ****\n",
      "61,97 TL\n"
     ]
    }
   ],
   "source": [
    "xidel https://www.akakce.com/oyuncak.html --xpath '//*[@id=\"PL_35_24\"]/li[1]/a/span[3]'"
   ]
  },
  {
   "cell_type": "code",
   "execution_count": 12,
   "metadata": {
    "kernel": "Bash"
   },
   "outputs": [
    {
     "name": "stdout",
     "output_type": "stream",
     "text": [
      "**** Retrieving (GET): https://www.akakce.com/oyuncak.html ****\n",
      "**** Processing: https://www.akakce.com/oyuncak.html ****\n",
      "Pilsan 05-107 Ranger 12V Akülü Araba\n"
     ]
    }
   ],
   "source": [
    "xidel https://www.akakce.com/oyuncak.html --xpath '//*[@id=\"CPL\"]/li[3]/a/span[2]/h3'"
   ]
  },
  {
   "cell_type": "code",
   "execution_count": 15,
   "metadata": {
    "kernel": "Bash"
   },
   "outputs": [
    {
     "name": "stdout",
     "output_type": "stream",
     "text": [
      "--2020-01-06 17:57:51--  https://www.akakce.com/oyuncak.html\n",
      "Resolving www.akakce.com (www.akakce.com)... 85.111.4.208\n",
      "Connecting to www.akakce.com (www.akakce.com)|85.111.4.208|:443... connected.\n",
      "HTTP request sent, awaiting response... 200 \n",
      "Length: 195073 (191K) [text/html]\n",
      "Saving to: ‘/home/jovyan/abc/akakce.txt’\n",
      "\n",
      "/home/jovyan/abc/ak 100%[===================>] 190.50K  1006KB/s    in 0.2s    \n",
      "\n",
      "2020-01-06 17:57:52 (1006 KB/s) - ‘/home/jovyan/abc/akakce.txt’ saved [195073/195073]\n",
      "\n",
      "--2020-01-06 17:57:52--  https://www.akakce.com/oyuncak.html\n",
      "Resolving www.akakce.com (www.akakce.com)... 85.111.4.208\n",
      "Connecting to www.akakce.com (www.akakce.com)|85.111.4.208|:443... connected.\n",
      "HTTP request sent, awaiting response... 200 \n",
      "Length: 195073 (191K) [text/html]\n",
      "Saving to: ‘/home/jovyan/abc/akakcee.txt’\n",
      "\n",
      "/home/jovyan/abc/ak 100%[===================>] 190.50K  1.11MB/s    in 0.2s    \n",
      "\n",
      "2020-01-06 17:57:53 (1.11 MB/s) - ‘/home/jovyan/abc/akakcee.txt’ saved [195073/195073]\n",
      "\n",
      "--2020-01-06 17:57:53--  https://www.akakce.com/oyuncak.html\n",
      "Resolving www.akakce.com (www.akakce.com)... 85.111.4.208\n",
      "Connecting to www.akakce.com (www.akakce.com)|85.111.4.208|:443... connected.\n",
      "HTTP request sent, awaiting response... 200 \n",
      "Length: 195073 (191K) [text/html]\n",
      "Saving to: ‘/home/jovyan/abc/akakceee.txt’\n",
      "\n",
      "/home/jovyan/abc/ak 100%[===================>] 190.50K  1.12MB/s    in 0.2s    \n",
      "\n",
      "2020-01-06 17:57:53 (1.12 MB/s) - ‘/home/jovyan/abc/akakceee.txt’ saved [195073/195073]\n",
      "\n",
      "--2020-01-06 17:57:53--  https://www.akakce.com/oyuncak.html\n",
      "Resolving www.akakce.com (www.akakce.com)... 85.111.4.208\n",
      "Connecting to www.akakce.com (www.akakce.com)|85.111.4.208|:443... connected.\n",
      "HTTP request sent, awaiting response... 200 \n",
      "Length: 195073 (191K) [text/html]\n",
      "Saving to: ‘/home/jovyan/abc/akakceeee.txt’\n",
      "\n",
      "/home/jovyan/abc/ak 100%[===================>] 190.50K  1.10MB/s    in 0.2s    \n",
      "\n",
      "2020-01-06 17:57:54 (1.10 MB/s) - ‘/home/jovyan/abc/akakceeee.txt’ saved [195073/195073]\n",
      "\n",
      "--2020-01-06 17:57:54--  https://www.akakce.com/oyuncak.html\n",
      "Resolving www.akakce.com (www.akakce.com)... 85.111.4.208\n",
      "Connecting to www.akakce.com (www.akakce.com)|85.111.4.208|:443... connected.\n",
      "HTTP request sent, awaiting response... 200 \n",
      "Length: 195073 (191K) [text/html]\n",
      "Saving to: ‘/home/jovyan/abc/akakceeeee.txt’\n",
      "\n",
      "/home/jovyan/abc/ak 100%[===================>] 190.50K  1.02MB/s    in 0.2s    \n",
      "\n",
      "2020-01-06 17:57:55 (1.02 MB/s) - ‘/home/jovyan/abc/akakceeeee.txt’ saved [195073/195073]\n",
      "\n"
     ]
    }
   ],
   "source": [
    "wget \"https://www.akakce.com/oyuncak.html\" -O ~/abc/akakce.txt\n",
    "wget \"https://www.akakce.com/oyuncak.html\" -O ~/abc/akakcee.txt\n",
    "wget \"https://www.akakce.com/oyuncak.html\" -O ~/abc/akakceee.txt\n",
    "wget \"https://www.akakce.com/oyuncak.html\" -O ~/abc/akakceeee.txt\n",
    "wget \"https://www.akakce.com/oyuncak.html\" -O ~/abc/akakceeeee.txt"
   ]
  },
  {
   "cell_type": "code",
   "execution_count": 16,
   "metadata": {
    "kernel": "Bash"
   },
   "outputs": [],
   "source": [
    "batu=~/abc"
   ]
  },
  {
   "cell_type": "code",
   "execution_count": 17,
   "metadata": {
    "kernel": "Bash"
   },
   "outputs": [],
   "source": [
    "he_sqm=$(for i in $batu/*; do \\\n",
    "xidel --input-format html --output-format adhoc -e \\\n",
    "'//*[@id=\"PL_35_24\"]/li[1]/a/span[3]' \\\n",
    "$i 2> /dev/null | \\\n",
    "tr -d \".\" | grep -Po \"\\d+\";\n",
    "done)"
   ]
  },
  {
   "cell_type": "code",
   "execution_count": 18,
   "metadata": {
    "kernel": "Bash"
   },
   "outputs": [
    {
     "name": "stdout",
     "output_type": "stream",
     "text": [
      "10\n"
     ]
    }
   ],
   "source": [
    "echo \"$he_sqm\" | wc -l"
   ]
  },
  {
   "cell_type": "code",
   "execution_count": null,
   "metadata": {
    "kernel": "Bash"
   },
   "outputs": [],
   "source": []
  }
 ],
 "metadata": {
  "kernelspec": {
   "display_name": "SoS",
   "language": "sos",
   "name": "sos"
  },
  "language_info": {
   "codemirror_mode": "sos",
   "file_extension": ".sos",
   "mimetype": "text/x-sos",
   "name": "sos",
   "nbconvert_exporter": "sos_notebook.converter.SoS_Exporter",
   "pygments_lexer": "sos"
  },
  "sos": {
   "kernels": [
    [
     "Bash",
     "bash",
     "bash",
     "",
     ""
    ]
   ],
   "panel": {
    "displayed": true,
    "height": 0
   },
   "version": "0.21.6"
  },
  "toc": {
   "base_numbering": 1,
   "nav_menu": {},
   "number_sections": true,
   "sideBar": true,
   "skip_h1_title": false,
   "title_cell": "Table of Contents",
   "title_sidebar": "Contents",
   "toc_cell": false,
   "toc_position": {},
   "toc_section_display": true,
   "toc_window_display": false
  }
 },
 "nbformat": 4,
 "nbformat_minor": 2
}
